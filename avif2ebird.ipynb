{
 "cells": [
  {
   "cell_type": "code",
   "execution_count": null,
   "metadata": {},
   "outputs": [],
   "source": [
    "import pandas as pd\n",
    "import time\n",
    "from datetime import datetime"
   ]
  },
  {
   "cell_type": "code",
   "execution_count": null,
   "metadata": {},
   "outputs": [],
   "source": [
    "data = pd.read_csv('CSV export z AVIFu', sep=';', encoding='windows-1250')"
   ]
  },
  {
   "cell_type": "code",
   "execution_count": null,
   "metadata": {},
   "outputs": [],
   "source": [
    "# odstranění dat po začátku používání eBird (13 May 2017)\n",
    "data = data[data.Datum < '2017-05-13']"
   ]
  },
  {
   "cell_type": "code",
   "execution_count": null,
   "metadata": {},
   "outputs": [],
   "source": [
    "# odstranění dat bez souřadnic a času\n",
    "data = data[data.ZSirka == data.ZSirka]\n",
    "data = data[data.Cas_od == data.Cas_od]"
   ]
  },
  {
   "cell_type": "code",
   "execution_count": null,
   "metadata": {},
   "outputs": [],
   "source": [
    "komp = {'ano': 'Y', 'ne': 'N'}"
   ]
  },
  {
   "cell_type": "code",
   "execution_count": null,
   "metadata": {},
   "outputs": [],
   "source": [
    "# opravy početnosti\n",
    "def pocet(val):\n",
    "    if val == val:\n",
    "        return val\n",
    "    else:\n",
    "        return 'x' # viděn"
   ]
  },
  {
   "cell_type": "code",
   "execution_count": null,
   "metadata": {},
   "outputs": [],
   "source": [
    "# formát data\n",
    "def dateForm(val):\n",
    "    val = val.split('-')\n",
    "    return val[1] + '/' + val[2] + '/' + val[0]"
   ]
  },
  {
   "cell_type": "code",
   "execution_count": null,
   "metadata": {},
   "outputs": [],
   "source": [
    "# počet pozorovatelů\n",
    "def obs(other):\n",
    "    if other != other:\n",
    "        return 1\n",
    "    else:\n",
    "        return 2"
   ]
  },
  {
   "cell_type": "code",
   "execution_count": null,
   "metadata": {},
   "outputs": [],
   "source": [
    "def dur(start, end):\n",
    "    s = datetime.strptime(start, \"%H:%M\")\n",
    "    e = datetime.strptime(end, \"%H:%M\")\n",
    "    \n",
    "    d = e - s\n",
    "    return d.seconds / 60"
   ]
  },
  {
   "cell_type": "code",
   "execution_count": null,
   "metadata": {},
   "outputs": [],
   "source": [
    "out = pd.DataFrame()\n",
    "for row in data.iterrows():\n",
    "    out = out.append({\n",
    "        'A': row[1]['DruhCZ'], #common name.\n",
    "        'B': None, #genus.\n",
    "        'C': None, #species.\n",
    "        'D': pocet(row[1]['PocetMin']), #number.\n",
    "        'E': None, #spec comment.\n",
    "        'F': row[1]['Lokalita'], #loc name.\n",
    "        'G': float(row[1]['ZSirka'].replace(',', '.')), #lat.\n",
    "        'H': float(row[1]['ZDelka'].replace(',', '.')), #lon.\n",
    "        'I': dateForm(row[1]['Datum']), #date 12/15/2006.\n",
    "        'J': row[1]['Cas_od'] + ':00', #start time.\n",
    "        'K': 'CZ', #state, province.\n",
    "        'L': 'CZ', #country.\n",
    "        'M': None, #protocol (stationary, travel...).\n",
    "        'N': obs(row[1]['Dalsi_pozorovatele']), #number of observers.\n",
    "        'O': dur(row[1]['Cas_od'], row[1]['Cas_do']), #duration minutes\n",
    "        'P': komp[row[1]['Kompletni_seznam']], #all obs Y/N.\n",
    "        'Q': None, #distance.\n",
    "        'R': None, #effort area.\n",
    "        'S': None},  #list comment.\n",
    "    ignore_index=True)"
   ]
  },
  {
   "cell_type": "code",
   "execution_count": null,
   "metadata": {},
   "outputs": [],
   "source": [
    "out.N = out.N.astype('int')"
   ]
  },
  {
   "cell_type": "code",
   "execution_count": null,
   "metadata": {},
   "outputs": [],
   "source": [
    "out.to_csv('./to_ebird.csv', encoding='utf-8', header=False, index=False)"
   ]
  }
 ],
 "metadata": {
  "kernelspec": {
   "display_name": "Python 3",
   "language": "python",
   "name": "python3"
  },
  "language_info": {
   "codemirror_mode": {
    "name": "ipython",
    "version": 3
   },
   "file_extension": ".py",
   "mimetype": "text/x-python",
   "name": "python",
   "nbconvert_exporter": "python",
   "pygments_lexer": "ipython3",
   "version": "3.6.3"
  }
 },
 "nbformat": 4,
 "nbformat_minor": 2
}
